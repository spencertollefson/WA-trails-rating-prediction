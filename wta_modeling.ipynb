{
 "cells": [
  {
   "cell_type": "code",
   "execution_count": 4,
   "metadata": {},
   "outputs": [],
   "source": [
    "import pandas as pd\n",
    "import numpy as np\n",
    "import matplotlib as mpl\n",
    "import matplotlib.pyplot as plt\n",
    "import scipy.stats as st\n",
    "# import pymc3 as pm\n",
    "import seaborn as sns\n",
    "import wtascripts.wta_helpers as wta_helpers\n",
    "\n",
    "# enables inline plots, without it plots don't show up in the notebook\n",
    "%matplotlib inline\n",
    "%config InlineBackend.figure_format = 'svg'\n",
    "# %config InlineBackend.figure_format = 'png'\n",
    "# mpl.rcParams['figure.dpi']= 300"
   ]
  },
  {
   "cell_type": "code",
   "execution_count": 5,
   "metadata": {},
   "outputs": [],
   "source": [
    "# Sklearn specific imports\n",
    "from sklearn.preprocessing import StandardScaler, LabelBinarizer, MultiLabelBinarizer\n",
    "from sklearn.model_selection import train_test_split\n",
    "from sklearn.pipeline import make_pipeline\n",
    "from sklearn.linear_model import LinearRegression\n",
    "from sklearn import metrics"
   ]
  },
  {
   "cell_type": "code",
   "execution_count": 6,
   "metadata": {},
   "outputs": [],
   "source": [
    "pd.set_option('display.max_columns', None)\n",
    "pd.set_option('display.max_rows', 25)\n",
    "pd.set_option('display.precision', 3)\n",
    "pd.set_option('display.float_format', lambda x: '%.3f' % x)\n",
    "np.set_printoptions(suppress=True)"
   ]
  },
  {
   "cell_type": "code",
   "execution_count": 7,
   "metadata": {},
   "outputs": [],
   "source": [
    "# Load then clean dataset\n",
    "df = wta_helpers.load_raw_df()\n",
    "df = wta_helpers.clean_raw_df(df)"
   ]
  },
  {
   "cell_type": "markdown",
   "metadata": {},
   "source": [
    "## Plan of Action\n",
    "* Use multi-label binarizer :  fee column\n",
    "* Use label binarizer : region\n",
    "* Probably remove votes or countreports due to collinearity. Which one is better? I think votes is bad too due to direct tie to trail\n",
    "  * A better model wouldn't have votes or count of reports - because those are not trail features\n",
    "\n",
    "#### Make pipeline with this stuff"
   ]
  },
  {
   "cell_type": "code",
   "execution_count": 8,
   "metadata": {},
   "outputs": [],
   "source": [
    "### Preprocessing"
   ]
  },
  {
   "cell_type": "code",
   "execution_count": 9,
   "metadata": {},
   "outputs": [
    {
     "name": "stderr",
     "output_type": "stream",
     "text": [
      "/home/spencer/anaconda3/lib/python3.6/site-packages/sklearn/preprocessing/data.py:617: DataConversionWarning: Data with input dtype int64, float64 were all converted to float64 by StandardScaler.\n",
      "  return self.partial_fit(X, y)\n",
      "/home/spencer/anaconda3/lib/python3.6/site-packages/sklearn/base.py:462: DataConversionWarning: Data with input dtype int64, float64 were all converted to float64 by StandardScaler.\n",
      "  return self.fit(X, **fit_params).transform(X)\n"
     ]
    }
   ],
   "source": [
    "onehot_feats = ['Wildflowers/Meadows', 'Ridges/passes',\n",
    "'Wildlife','Waterfalls','Old growth','Summits','Good for kids','Dogs allowed on leash',\n",
    "'Fall foliage','Lakes','Rivers','Coast','Mountain views','Established campsites',]\n",
    "# Not used: lat, long, fee, region, subregion, lengthtype\n",
    "\n",
    "# cont_feats = ['votes', 'countreports', 'length', 'gain', 'hpoint']\n",
    "cont_feats = ['votes', 'length', 'gain', 'hpoint']\n",
    "\n",
    "\n",
    "oh_cols = df[onehot_feats]\n",
    "\n",
    "#Standardize the non one-hot encoding variables into XS\n",
    "s = StandardScaler()\n",
    "XS = s.fit_transform(df[cont_feats])\n",
    "#print(oh_cols)\n",
    "# combine with the one hot encoding variables"
   ]
  },
  {
   "cell_type": "code",
   "execution_count": 17,
   "metadata": {},
   "outputs": [
    {
     "data": {
      "text/plain": [
       "0       [Northwest Forest Pass]\n",
       "1                        [None]\n",
       "2          [National Park Pass]\n",
       "3       [Northwest Forest Pass]\n",
       "5       [Northwest Forest Pass]\n",
       "6               [Discover Pass]\n",
       "8       [Northwest Forest Pass]\n",
       "12                       [None]\n",
       "14                       [None]\n",
       "23                       [None]\n",
       "24                       [None]\n",
       "25      [Northwest Forest Pass]\n",
       "                 ...           \n",
       "3395         [Sno-Parks Permit]\n",
       "3402         [Sno-Parks Permit]\n",
       "3403    [Northwest Forest Pass]\n",
       "3407    [Northwest Forest Pass]\n",
       "3408    [Northwest Forest Pass]\n",
       "3413       [National Park Pass]\n",
       "3465    [Northwest Forest Pass]\n",
       "3509         [Sno-Parks Permit]\n",
       "3512    [Northwest Forest Pass]\n",
       "3522    [Northwest Forest Pass]\n",
       "3528       [National Park Pass]\n",
       "3535    [Northwest Forest Pass]\n",
       "Name: fee, Length: 1150, dtype: object"
      ]
     },
     "execution_count": 17,
     "metadata": {},
     "output_type": "execute_result"
    }
   ],
   "source": [
    "df['fee'].str.split(\",\")"
   ]
  },
  {
   "cell_type": "code",
   "execution_count": 98,
   "metadata": {},
   "outputs": [
    {
     "data": {
      "text/plain": [
       "array(['Discover Pass', 'National Monument Fee', 'National Park Pass',\n",
       "       'None', 'Northwest Forest Pass', 'Oregon State Parks Day-Use',\n",
       "       'Refuge Entrance Pass', 'Sno-Parks Permit'], dtype=object)"
      ]
     },
     "execution_count": 98,
     "metadata": {},
     "output_type": "execute_result"
    }
   ],
   "source": [
    "# multilabelbinarizer for 'fees' column\n",
    "mlb = MultiLabelBinarizer()\n",
    "fees_processed = mlb.fit_transform(df['fee'].str.replace(\", \",\",\").str.split(\",\"))\n",
    "mlb.fit_transform(df['fee'].str.replace(\", \",\",\").str.split(\",\"))\n",
    "mlb.classes_"
   ]
  },
  {
   "cell_type": "code",
   "execution_count": 24,
   "metadata": {},
   "outputs": [
    {
     "data": {
      "text/plain": [
       "array([[0, 0, 0, ..., 0, 0, 0],\n",
       "       [0, 0, 0, ..., 0, 1, 0],\n",
       "       [0, 0, 0, ..., 0, 0, 0],\n",
       "       ...,\n",
       "       [0, 0, 0, ..., 1, 0, 0],\n",
       "       [0, 0, 0, ..., 0, 0, 0],\n",
       "       [0, 0, 0, ..., 0, 1, 0]])"
      ]
     },
     "execution_count": 24,
     "metadata": {},
     "output_type": "execute_result"
    }
   ],
   "source": [
    "# labelbinarizer for 'region' column\n",
    "lb = LabelBinarizer()\n",
    "region_processed = lb.fit_transform(df['region'])\n",
    "lb.classes_\n",
    "region_processed"
   ]
  },
  {
   "cell_type": "code",
   "execution_count": 25,
   "metadata": {},
   "outputs": [],
   "source": [
    "X = np.concatenate([XS, oh_cols, fees_processed, region_processed], axis=1)\n",
    "y = df['rating']"
   ]
  },
  {
   "cell_type": "code",
   "execution_count": 26,
   "metadata": {},
   "outputs": [],
   "source": [
    "# X = make_pipeline(StandardScaler(df[cont_feats]), MultiLabelBinarizer(df['fee'].str.split(\",\")), LabelBinarizer(df['region']))"
   ]
  },
  {
   "cell_type": "code",
   "execution_count": 27,
   "metadata": {},
   "outputs": [
    {
     "name": "stdout",
     "output_type": "stream",
     "text": [
      "intercept: 3.3021683646725504\n",
      "coefficients, [ 0.14228162  0.03322886 -0.00019636  0.04158784  0.02384419  0.06929321\n",
      " -0.16536648  0.18403333  0.03160041  0.21247978  0.180958    0.02202666\n",
      "  0.08709014  0.09989567 -0.01591556  0.37751028  0.15103101  0.03811052\n",
      " -0.3588524   0.3515122  -0.16940734  0.54504354  0.05433978 -0.12913634\n",
      " -0.1175724   0.         -0.09471874 -0.0885485  -0.07236443 -0.01311358\n",
      "  0.25030336 -0.20442514 -0.02299985 -0.01345088  0.00866608  0.11936192\n",
      " -0.09396924 -0.1345393   0.17653106]\n",
      "RMSE: 0.6514168823160014\n",
      "MSE: 0.42434395456629914\n",
      "Score:\n"
     ]
    }
   ],
   "source": [
    "X_train, X_test, y_train, ytest = train_test_split(X, y)\n",
    "\n",
    "reg = LinearRegression()\n",
    "\n",
    "reg.fit(X_train, y_train)\n",
    "\n",
    "print(\"intercept:\",reg.intercept_)\n",
    "print(\"coefficients,\",reg.coef_)\n",
    "\n",
    "y_pred = reg.predict(X_test)\n",
    "\n",
    "print(\"RMSE:\", np.sqrt(metrics.mean_squared_error(ytest, y_pred)))\n",
    "print(\"MSE:\", metrics.mean_squared_error(ytest, y_pred))\n",
    "print(\"Score:\", )"
   ]
  },
  {
   "cell_type": "code",
   "execution_count": 28,
   "metadata": {},
   "outputs": [],
   "source": [
    "# I may not be creating my model correctly by leaving \"fee\" and \"region\" all alone"
   ]
  },
  {
   "cell_type": "code",
   "execution_count": 29,
   "metadata": {},
   "outputs": [
    {
     "data": {
      "text/plain": [
       "['votes',\n",
       " 'length',\n",
       " 'gain',\n",
       " 'hpoint',\n",
       " 'Wildflowers/Meadows',\n",
       " 'Ridges/passes',\n",
       " 'Wildlife',\n",
       " 'Waterfalls',\n",
       " 'Old growth',\n",
       " 'Summits',\n",
       " 'Good for kids',\n",
       " 'Dogs allowed on leash',\n",
       " 'Fall foliage',\n",
       " 'Lakes',\n",
       " 'Rivers',\n",
       " 'Coast',\n",
       " 'Mountain views',\n",
       " 'Established campsites',\n",
       " ' Northwest Forest Pass',\n",
       " ' Sno-Parks Permit',\n",
       " 'Discover Pass',\n",
       " 'National Monument Fee',\n",
       " 'National Park Pass',\n",
       " 'None',\n",
       " 'Northwest Forest Pass',\n",
       " 'Oregon State Parks Day-Use',\n",
       " 'Refuge Entrance Pass',\n",
       " 'Sno-Parks Permit',\n",
       " 'Central Cascades',\n",
       " 'Central Washington',\n",
       " 'Eastern Washington',\n",
       " 'Issaquah Alps',\n",
       " 'Mount Rainier Area',\n",
       " 'North Cascades',\n",
       " 'Olympic Peninsula',\n",
       " 'Puget Sound and Islands',\n",
       " 'Snoqualmie Region',\n",
       " 'South Cascades',\n",
       " 'Southwest Washington']"
      ]
     },
     "execution_count": 29,
     "metadata": {},
     "output_type": "execute_result"
    }
   ],
   "source": [
    "newlist = cont_feats + onehot_feats + list(mlb.classes_) + list(lb.classes_)\n",
    "newlist"
   ]
  },
  {
   "cell_type": "code",
   "execution_count": 30,
   "metadata": {
    "scrolled": false
   },
   "outputs": [
    {
     "ename": "KeyError",
     "evalue": "\"[' Northwest Forest Pass' ' Sno-Parks Permit' 'Discover Pass'\\n 'National Monument Fee' 'National Park Pass' 'None'\\n 'Northwest Forest Pass' 'Oregon State Parks Day-Use'\\n 'Refuge Entrance Pass' 'Sno-Parks Permit' 'Central Cascades'\\n 'Central Washington' 'Eastern Washington' 'Issaquah Alps'\\n 'Mount Rainier Area' 'North Cascades' 'Olympic Peninsula'\\n 'Puget Sound and Islands' 'Snoqualmie Region' 'South Cascades'\\n 'Southwest Washington'] not in index\"",
     "output_type": "error",
     "traceback": [
      "\u001b[0;31m-----------------------------------------------------------\u001b[0m",
      "\u001b[0;31mKeyError\u001b[0m                  Traceback (most recent call last)",
      "\u001b[0;32m<ipython-input-30-e3a96bddcbb3>\u001b[0m in \u001b[0;36m<module>\u001b[0;34m()\u001b[0m\n\u001b[0;32m----> 1\u001b[0;31m \u001b[0mhold\u001b[0m \u001b[0;34m=\u001b[0m \u001b[0msorted\u001b[0m\u001b[0;34m(\u001b[0m\u001b[0mzip\u001b[0m\u001b[0;34m(\u001b[0m\u001b[0mdf\u001b[0m\u001b[0;34m[\u001b[0m\u001b[0mnewlist\u001b[0m\u001b[0;34m]\u001b[0m\u001b[0;34m,\u001b[0m \u001b[0mreg\u001b[0m\u001b[0;34m.\u001b[0m\u001b[0mcoef_\u001b[0m\u001b[0;34m)\u001b[0m\u001b[0;34m,\u001b[0m \u001b[0mkey\u001b[0m\u001b[0;34m=\u001b[0m\u001b[0;32mlambda\u001b[0m \u001b[0mx\u001b[0m\u001b[0;34m:\u001b[0m \u001b[0mx\u001b[0m\u001b[0;34m[\u001b[0m\u001b[0;36m1\u001b[0m\u001b[0;34m]\u001b[0m\u001b[0;34m,\u001b[0m \u001b[0mreverse\u001b[0m\u001b[0;34m=\u001b[0m\u001b[0;32mTrue\u001b[0m\u001b[0;34m)\u001b[0m\u001b[0;34m\u001b[0m\u001b[0m\n\u001b[0m\u001b[1;32m      2\u001b[0m \u001b[0mprint\u001b[0m\u001b[0;34m(\u001b[0m\u001b[0mhold\u001b[0m\u001b[0;34m)\u001b[0m\u001b[0;34m\u001b[0m\u001b[0m\n",
      "\u001b[0;32m~/anaconda3/lib/python3.6/site-packages/pandas/core/frame.py\u001b[0m in \u001b[0;36m__getitem__\u001b[0;34m(self, key)\u001b[0m\n\u001b[1;32m   2680\u001b[0m         \u001b[0;32mif\u001b[0m \u001b[0misinstance\u001b[0m\u001b[0;34m(\u001b[0m\u001b[0mkey\u001b[0m\u001b[0;34m,\u001b[0m \u001b[0;34m(\u001b[0m\u001b[0mSeries\u001b[0m\u001b[0;34m,\u001b[0m \u001b[0mnp\u001b[0m\u001b[0;34m.\u001b[0m\u001b[0mndarray\u001b[0m\u001b[0;34m,\u001b[0m \u001b[0mIndex\u001b[0m\u001b[0;34m,\u001b[0m \u001b[0mlist\u001b[0m\u001b[0;34m)\u001b[0m\u001b[0;34m)\u001b[0m\u001b[0;34m:\u001b[0m\u001b[0;34m\u001b[0m\u001b[0m\n\u001b[1;32m   2681\u001b[0m             \u001b[0;31m# either boolean or fancy integer index\u001b[0m\u001b[0;34m\u001b[0m\u001b[0;34m\u001b[0m\u001b[0m\n\u001b[0;32m-> 2682\u001b[0;31m             \u001b[0;32mreturn\u001b[0m \u001b[0mself\u001b[0m\u001b[0;34m.\u001b[0m\u001b[0m_getitem_array\u001b[0m\u001b[0;34m(\u001b[0m\u001b[0mkey\u001b[0m\u001b[0;34m)\u001b[0m\u001b[0;34m\u001b[0m\u001b[0m\n\u001b[0m\u001b[1;32m   2683\u001b[0m         \u001b[0;32melif\u001b[0m \u001b[0misinstance\u001b[0m\u001b[0;34m(\u001b[0m\u001b[0mkey\u001b[0m\u001b[0;34m,\u001b[0m \u001b[0mDataFrame\u001b[0m\u001b[0;34m)\u001b[0m\u001b[0;34m:\u001b[0m\u001b[0;34m\u001b[0m\u001b[0m\n\u001b[1;32m   2684\u001b[0m             \u001b[0;32mreturn\u001b[0m \u001b[0mself\u001b[0m\u001b[0;34m.\u001b[0m\u001b[0m_getitem_frame\u001b[0m\u001b[0;34m(\u001b[0m\u001b[0mkey\u001b[0m\u001b[0;34m)\u001b[0m\u001b[0;34m\u001b[0m\u001b[0m\n",
      "\u001b[0;32m~/anaconda3/lib/python3.6/site-packages/pandas/core/frame.py\u001b[0m in \u001b[0;36m_getitem_array\u001b[0;34m(self, key)\u001b[0m\n\u001b[1;32m   2724\u001b[0m             \u001b[0;32mreturn\u001b[0m \u001b[0mself\u001b[0m\u001b[0;34m.\u001b[0m\u001b[0m_take\u001b[0m\u001b[0;34m(\u001b[0m\u001b[0mindexer\u001b[0m\u001b[0;34m,\u001b[0m \u001b[0maxis\u001b[0m\u001b[0;34m=\u001b[0m\u001b[0;36m0\u001b[0m\u001b[0;34m)\u001b[0m\u001b[0;34m\u001b[0m\u001b[0m\n\u001b[1;32m   2725\u001b[0m         \u001b[0;32melse\u001b[0m\u001b[0;34m:\u001b[0m\u001b[0;34m\u001b[0m\u001b[0m\n\u001b[0;32m-> 2726\u001b[0;31m             \u001b[0mindexer\u001b[0m \u001b[0;34m=\u001b[0m \u001b[0mself\u001b[0m\u001b[0;34m.\u001b[0m\u001b[0mloc\u001b[0m\u001b[0;34m.\u001b[0m\u001b[0m_convert_to_indexer\u001b[0m\u001b[0;34m(\u001b[0m\u001b[0mkey\u001b[0m\u001b[0;34m,\u001b[0m \u001b[0maxis\u001b[0m\u001b[0;34m=\u001b[0m\u001b[0;36m1\u001b[0m\u001b[0;34m)\u001b[0m\u001b[0;34m\u001b[0m\u001b[0m\n\u001b[0m\u001b[1;32m   2727\u001b[0m             \u001b[0;32mreturn\u001b[0m \u001b[0mself\u001b[0m\u001b[0;34m.\u001b[0m\u001b[0m_take\u001b[0m\u001b[0;34m(\u001b[0m\u001b[0mindexer\u001b[0m\u001b[0;34m,\u001b[0m \u001b[0maxis\u001b[0m\u001b[0;34m=\u001b[0m\u001b[0;36m1\u001b[0m\u001b[0;34m)\u001b[0m\u001b[0;34m\u001b[0m\u001b[0m\n\u001b[1;32m   2728\u001b[0m \u001b[0;34m\u001b[0m\u001b[0m\n",
      "\u001b[0;32m~/anaconda3/lib/python3.6/site-packages/pandas/core/indexing.py\u001b[0m in \u001b[0;36m_convert_to_indexer\u001b[0;34m(self, obj, axis, is_setter)\u001b[0m\n\u001b[1;32m   1325\u001b[0m                 \u001b[0;32mif\u001b[0m \u001b[0mmask\u001b[0m\u001b[0;34m.\u001b[0m\u001b[0many\u001b[0m\u001b[0;34m(\u001b[0m\u001b[0;34m)\u001b[0m\u001b[0;34m:\u001b[0m\u001b[0;34m\u001b[0m\u001b[0m\n\u001b[1;32m   1326\u001b[0m                     raise KeyError('{mask} not in index'\n\u001b[0;32m-> 1327\u001b[0;31m                                    .format(mask=objarr[mask]))\n\u001b[0m\u001b[1;32m   1328\u001b[0m \u001b[0;34m\u001b[0m\u001b[0m\n\u001b[1;32m   1329\u001b[0m                 \u001b[0;32mreturn\u001b[0m \u001b[0mcom\u001b[0m\u001b[0;34m.\u001b[0m\u001b[0m_values_from_object\u001b[0m\u001b[0;34m(\u001b[0m\u001b[0mindexer\u001b[0m\u001b[0;34m)\u001b[0m\u001b[0;34m\u001b[0m\u001b[0m\n",
      "\u001b[0;31mKeyError\u001b[0m: \"[' Northwest Forest Pass' ' Sno-Parks Permit' 'Discover Pass'\\n 'National Monument Fee' 'National Park Pass' 'None'\\n 'Northwest Forest Pass' 'Oregon State Parks Day-Use'\\n 'Refuge Entrance Pass' 'Sno-Parks Permit' 'Central Cascades'\\n 'Central Washington' 'Eastern Washington' 'Issaquah Alps'\\n 'Mount Rainier Area' 'North Cascades' 'Olympic Peninsula'\\n 'Puget Sound and Islands' 'Snoqualmie Region' 'South Cascades'\\n 'Southwest Washington'] not in index\""
     ]
    }
   ],
   "source": [
    "hold = sorted(zip(df[newlist], reg.coef_), key=lambda x: x[1], reverse=True)\n",
    "print(hold)"
   ]
  },
  {
   "cell_type": "code",
   "execution_count": null,
   "metadata": {},
   "outputs": [],
   "source": [
    "df.rating.plot.hist(50)"
   ]
  },
  {
   "cell_type": "code",
   "execution_count": null,
   "metadata": {},
   "outputs": [],
   "source": [
    "# votes, count of tripreports, mountains, waterfall, summits, then hpoint, then ridges/passes"
   ]
  },
  {
   "cell_type": "code",
   "execution_count": null,
   "metadata": {},
   "outputs": [],
   "source": [
    "sns.pairplot(df[(df.votes > 3) & (df.length < 60) & (df.hpoint < 9000)],\n",
    "             x_vars=['votes','length','gain','hpoint','countreports'],\n",
    "             y_vars='rating')"
   ]
  },
  {
   "cell_type": "code",
   "execution_count": null,
   "metadata": {},
   "outputs": [],
   "source": []
  },
  {
   "cell_type": "code",
   "execution_count": null,
   "metadata": {},
   "outputs": [],
   "source": [
    "# votes and count reports are highly correlated\n",
    "plt.scatter(df['votes'], df['countreports']);"
   ]
  },
  {
   "cell_type": "code",
   "execution_count": null,
   "metadata": {},
   "outputs": [],
   "source": [
    "cont_cols= ['votes', 'countreports', 'length', 'gain', 'hpoint', 'Wildflowers/Meadows', 'Ridges/passes',\n",
    "            'Wildlife','Waterfalls','Old growth','Summits','Good for kids','Dogs allowed on leash',\n",
    "            'Fall foliage','Lakes','Rivers','Coast','Mountain views','Established campsites',]"
   ]
  },
  {
   "cell_type": "code",
   "execution_count": null,
   "metadata": {},
   "outputs": [],
   "source": [
    "from sklearn.preprocessing import StandardScaler, OneHotEncoder\n",
    "from sklearn.model_selection import train_test_split\n",
    "from sklearn.linear_model import LinearRegression\n",
    "from sklearn import metrics\n",
    "\n",
    "cont_cols = ['votes', 'countreports', 'length', 'gain', 'hpoint']\n",
    "oh_cols = df[onehot_feats]\n",
    "\n",
    "#Standardize the non one-hot encoding variables into XS\n",
    "s = StandardScaler()\n",
    "XS = s.fit_transform(X)\n",
    "#print(oh_cols)\n",
    "# combine with the one hot encoding variables\n",
    "\n",
    "X = np.concatenate([XS, oh_cols], axis=1)\n",
    "y = df['rating']"
   ]
  },
  {
   "cell_type": "code",
   "execution_count": null,
   "metadata": {},
   "outputs": [],
   "source": [
    "newlist = cont_cols + onehot_feats\n",
    "newlist"
   ]
  },
  {
   "cell_type": "code",
   "execution_count": null,
   "metadata": {},
   "outputs": [],
   "source": [
    "d = {i: len(df[i].unique()) for i in df.columns}\n",
    "d"
   ]
  },
  {
   "cell_type": "code",
   "execution_count": null,
   "metadata": {},
   "outputs": [],
   "source": []
  },
  {
   "cell_type": "code",
   "execution_count": null,
   "metadata": {},
   "outputs": [],
   "source": []
  }
 ],
 "metadata": {
  "kernelspec": {
   "display_name": "Python 3",
   "language": "python",
   "name": "python3"
  },
  "language_info": {
   "codemirror_mode": {
    "name": "ipython",
    "version": 3
   },
   "file_extension": ".py",
   "mimetype": "text/x-python",
   "name": "python",
   "nbconvert_exporter": "python",
   "pygments_lexer": "ipython3",
   "version": "3.6.6"
  },
  "toc": {
   "base_numbering": 1,
   "nav_menu": {},
   "number_sections": true,
   "sideBar": true,
   "skip_h1_title": false,
   "title_cell": "Table of Contents",
   "title_sidebar": "Contents",
   "toc_cell": false,
   "toc_position": {},
   "toc_section_display": true,
   "toc_window_display": false
  },
  "varInspector": {
   "cols": {
    "lenName": 16,
    "lenType": 16,
    "lenVar": 40
   },
   "kernels_config": {
    "python": {
     "delete_cmd_postfix": "",
     "delete_cmd_prefix": "del ",
     "library": "var_list.py",
     "varRefreshCmd": "print(var_dic_list())"
    },
    "r": {
     "delete_cmd_postfix": ") ",
     "delete_cmd_prefix": "rm(",
     "library": "var_list.r",
     "varRefreshCmd": "cat(var_dic_list()) "
    }
   },
   "types_to_exclude": [
    "module",
    "function",
    "builtin_function_or_method",
    "instance",
    "_Feature"
   ],
   "window_display": false
  }
 },
 "nbformat": 4,
 "nbformat_minor": 2
}
