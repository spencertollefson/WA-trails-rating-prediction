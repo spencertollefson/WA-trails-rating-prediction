{
 "cells": [
  {
   "cell_type": "code",
   "execution_count": 1,
   "metadata": {},
   "outputs": [],
   "source": [
    "from __future__ import print_function, division\n",
    "import pandas as pd\n",
    "import numpy as np\n",
    "import matplotlib as mpl\n",
    "import matplotlib.pyplot as plt\n",
    "import requests\n",
    "from bs4 import BeautifulSoup\n",
    "import re\n",
    "from collections import defaultdict\n",
    "from selenium import webdriver\n",
    "from selenium.webdriver.common.keys import Keys\n",
    "import time\n",
    "import os\n",
    "\n",
    "firefoxdriver = \"/usr/local/bin/geckodriver\" # path to the chromedriver executable\n",
    "os.environ[\"webdriver.firefox.driver\"] = firefoxdriver\n",
    "\n",
    "\n",
    "%config InlineBackend.figure_format = 'png' # ‘png’, ‘retina’, ‘jpeg’, ‘svg’, ‘pdf’\n",
    "\n",
    "%matplotlib inline\n",
    "mpl.rcParams['figure.dpi']= 300\n",
    "\n",
    "pd.set_option('display.max_columns', None)\n",
    "pd.set_option('display.max_rows', 25)\n",
    "pd.set_option('display.precision', 3)"
   ]
  },
  {
   "cell_type": "code",
   "execution_count": 443,
   "metadata": {},
   "outputs": [],
   "source": [
    "url = 'https://www.wta.org/go-hiking/hikes/wilderness-peak'\n",
    "pacurl = 'https://www.wta.org/go-hiking/hikes/pacific-northwest-trail'\n",
    "response = requests.get(url)\n",
    "response2 = requests.get(pacurl)\n",
    "\n",
    "page = response.text\n",
    "page2 = response2.text"
   ]
  },
  {
   "cell_type": "code",
   "execution_count": 444,
   "metadata": {},
   "outputs": [],
   "source": [
    "pac = BeautifulSoup(page2, 'lxml')"
   ]
  },
  {
   "cell_type": "code",
   "execution_count": 7,
   "metadata": {},
   "outputs": [],
   "source": [
    "soup = BeautifulSoup(page, 'lxml')"
   ]
  },
  {
   "cell_type": "code",
   "execution_count": 546,
   "metadata": {},
   "outputs": [],
   "source": [
    "headers = [\n",
    "    'name',\n",
    "    'region',\n",
    "    'subregion',\n",
    "    'votes',\n",
    "    'rating',\n",
    "    'length',\n",
    "    'gain',\n",
    "    'hpoint',\n",
    "    'fee',\n",
    "    'lat',\n",
    "    'long',\n",
    "    'trailhead1',\n",
    "    'trailhead2',\n",
    "    'author1',\n",
    "    'author2',\n",
    "    'countreports',\n",
    "          ]\n",
    "\n",
    "binary_headers = [\n",
    "    'Wildflowers/Meadows',\n",
    "    'Ridges/passes',\n",
    "    'Wildlife',\n",
    "    'Waterfalls',\n",
    "    'Old growth',\n",
    "    'Summits',\n",
    "    'Good for kids',\n",
    "    'Dogs allowed on leash',\n",
    "    'Fall foliage',\n",
    "    'Lakes',\n",
    "    'Rivers',\n",
    "    'Coast',\n",
    "    'Mountain views',\n",
    "    'Established campsites',\n",
    "]"
   ]
  },
  {
   "cell_type": "markdown",
   "metadata": {},
   "source": [
    "# Helper Functions"
   ]
  },
  {
   "cell_type": "code",
   "execution_count": 536,
   "metadata": {},
   "outputs": [],
   "source": [
    "def get_soup_hike_stat(soup, stat):\n",
    "    obj = soup.find(text=re.compile(stat))\n",
    "    if not obj:\n",
    "        return None\n",
    "    else:\n",
    "        return obj"
   ]
  },
  {
   "cell_type": "markdown",
   "metadata": {},
   "source": [
    "# Retrieval Functions"
   ]
  },
  {
   "cell_type": "code",
   "execution_count": 526,
   "metadata": {},
   "outputs": [],
   "source": [
    "def get_name(soup):\n",
    "    return soup.find(class_='documentFirstHeading').text\n",
    "\n",
    "def get_region(soup):\n",
    "    regions = get_soup_hike_stat(soup, 'Location').find_next().text\n",
    "    regions = regions.split(sep=\"--\")\n",
    "    return regions[0].strip()\n",
    "\n",
    "def get_subregion(soup):\n",
    "    regions = get_soup_hike_stat(soup, 'Location').find_next().text\n",
    "    regions = regions.split(sep=\"--\")\n",
    "    return regions[1].strip()\n",
    "\n",
    "def get_length(soup):\n",
    "    length = get_soup_hike_stat(soup, 'Length').find_next().find('span').text\n",
    "    return length.split()[0]\n",
    "\n",
    "def get_gain(soup):\n",
    "    return get_soup_hike_stat(soup, 'Gain').find_next().text\n",
    "\n",
    "def get_hpoint(soup):\n",
    "    return get_soup_hike_stat(soup, 'Highest Point').find_next().text\n",
    "\n",
    "def get_fee(soup):\n",
    "    return get_soup_hike_stat(soup, 'Parking Pass/Entry Fee').find_next().text\n",
    "\n",
    "def get_lat(soup):\n",
    "    return get_soup_hike_stat(soup, 'Co-ordinates').find_next().text\n",
    "\n",
    "def get_long(soup):    \n",
    "    return get_soup_hike_stat(soup, 'Co-ordinates').find_next().find_next().text\n",
    "\n",
    "def get_trailhead1(soup):\n",
    "    obj = soup.find(id='trailhead-details').find_all('p')[1].text\n",
    "    if \"weather\" in obj:\n",
    "        return np.nan\n",
    "    return obj\n",
    "def get_trailhead2(soup):\n",
    "    obj = soup.find(id='trailhead-details').find_all('p')[2].text\n",
    "    if \"weather\" in obj:\n",
    "        return np.nan\n",
    "    return obj\n",
    "\n",
    "def get_author1(soup):\n",
    "    return soup.find(class_='authorship sidebar-section').find('p').find_all('span')[0].text\n",
    "\n",
    "def get_author2(soup):\n",
    "    return soup.find(class_='authorship sidebar-section').find('p').find_all('span')[1].text\n",
    "\n",
    "def get_countreports(soup):\n",
    "    return soup.find(class_='ReportCount').text\n",
    "\n",
    "def get_votes(soup):\n",
    "    return soup.find(class_='rating-count').text.split()[0][1:]\n",
    "\n",
    "def get_rating(soup):\n",
    "    return soup.find(class_='current-rating').text.split()[0]"
   ]
  },
  {
   "cell_type": "markdown",
   "metadata": {},
   "source": [
    "# Function to mark if certain categorical features are present\n",
    "\n",
    "## Only run this after having created the dictionary for the current webpage"
   ]
  },
  {
   "cell_type": "code",
   "execution_count": 556,
   "metadata": {},
   "outputs": [],
   "source": [
    "def append_features(soup, headers):\n",
    "    '''\n",
    "    soup: beautifulsoup object of web page\n",
    "    headers: list of names of the particular wta.org trail page features we want.\n",
    "    ----\n",
    "    output is defaultdict\n",
    "    '''\n",
    "    data = defaultdict()\n",
    "    for i in headers:\n",
    "        try:\n",
    "            # allows to call methods by inserting a string into the func name\n",
    "            data[i] = [globals()[\"get_\" + i](soup)]\n",
    "        except:\n",
    "            data[i] = np.nan\n",
    "    return data\n",
    "\n",
    "def append_binary_feats(soup, binary_headers, feat_dict):\n",
    "    '''\n",
    "    soup: beautifulsoup object of web page\n",
    "    datadict: this is the dictionary used for each webpage to store the variables.\n",
    "    Thus this function should be called only after that dict has been created.\n",
    "    ----\n",
    "    Product: this outcome appends binary categorical features present as a \"1\" or \"0\" to an existing\n",
    "    dictionary\n",
    "    '''\n",
    "    bin_features = binary_headers.copy()\n",
    "    for i in soup.find_all(class_='feature'):\n",
    "        label = i.attrs['data-title']\n",
    "        if label in bin_features:\n",
    "            feat_dict[label] = 1\n",
    "            bin_features.remove(label)\n",
    "    for remainder in bin_features:\n",
    "        feat_dict[remainder] = 0"
   ]
  },
  {
   "cell_type": "code",
   "execution_count": 479,
   "metadata": {
    "collapsed": true
   },
   "outputs": [
    {
     "name": "stdout",
     "output_type": "stream",
     "text": [
      "get_name: Wilderness Peak Loop\n",
      "get_region: Issaquah Alps\n",
      "get_subregion: Cougar Mountain\n",
      "get_votes: 19\n",
      "get_rating: 3.00\n",
      "get_length: 4.0\n",
      "get_gain: 1200\n",
      "get_hpoint: 1598\n",
      "get_fee: None\n",
      "get_lat: 47.5093\n",
      "get_long: -122.0904\n",
      "get_trailhead1: Whittaker Wilderness Peak (#COUGAR-E4), Gombu Wilderness Cliffs (#)\n",
      "get_trailhead2: King County Parks\n",
      "get_author1: WTA Correspondents\n",
      "get_author2: Alan Gibbs\n",
      "get_countreports: 177\n"
     ]
    },
    {
     "ename": "KeyError",
     "evalue": "'get_Wildflowers/Meadows'",
     "output_type": "error",
     "traceback": [
      "\u001b[0;31m-----------------------------------------------------------------\u001b[0m",
      "\u001b[0;31mKeyError\u001b[0m                        Traceback (most recent call last)",
      "\u001b[0;32m<ipython-input-479-36d93129da05>\u001b[0m in \u001b[0;36m<module>\u001b[0;34m()\u001b[0m\n\u001b[1;32m      1\u001b[0m \u001b[0;31m# Rough Debugging\u001b[0m\u001b[0;34m\u001b[0m\u001b[0;34m\u001b[0m\u001b[0m\n\u001b[1;32m      2\u001b[0m \u001b[0;32mfor\u001b[0m \u001b[0mi\u001b[0m \u001b[0;32min\u001b[0m \u001b[0mheaders\u001b[0m\u001b[0;34m:\u001b[0m\u001b[0;34m\u001b[0m\u001b[0m\n\u001b[0;32m----> 3\u001b[0;31m     \u001b[0mprint\u001b[0m\u001b[0;34m(\u001b[0m\u001b[0;34m'get_'\u001b[0m\u001b[0;34m+\u001b[0m\u001b[0mi\u001b[0m\u001b[0;34m+\u001b[0m\u001b[0;34m':'\u001b[0m\u001b[0;34m,\u001b[0m \u001b[0mlocals\u001b[0m\u001b[0;34m(\u001b[0m\u001b[0;34m)\u001b[0m\u001b[0;34m[\u001b[0m\u001b[0;34m\"get_\"\u001b[0m\u001b[0;34m+\u001b[0m\u001b[0mi\u001b[0m\u001b[0;34m]\u001b[0m\u001b[0;34m(\u001b[0m\u001b[0msoup\u001b[0m\u001b[0;34m)\u001b[0m\u001b[0;34m)\u001b[0m\u001b[0;34m\u001b[0m\u001b[0m\n\u001b[0m",
      "\u001b[0;31mKeyError\u001b[0m: 'get_Wildflowers/Meadows'"
     ]
    }
   ],
   "source": [
    "# Rough Debugging\n",
    "for i in headers:\n",
    "    print('get_'+i+':', locals()[\"get_\"+i](soup))"
   ]
  },
  {
   "cell_type": "code",
   "execution_count": 445,
   "metadata": {
    "collapsed": true
   },
   "outputs": [
    {
     "name": "stdout",
     "output_type": "stream",
     "text": [
      "get_name: Pacific Northwest Trail\n",
      "get_region: Puget Sound and Islands\n"
     ]
    },
    {
     "ename": "IndexError",
     "evalue": "list index out of range",
     "output_type": "error",
     "traceback": [
      "\u001b[0;31m-----------------------------------------------------------------\u001b[0m",
      "\u001b[0;31mIndexError\u001b[0m                      Traceback (most recent call last)",
      "\u001b[0;32m<ipython-input-445-ab2c66282b91>\u001b[0m in \u001b[0;36m<module>\u001b[0;34m()\u001b[0m\n\u001b[1;32m      2\u001b[0m \u001b[0mprint\u001b[0m\u001b[0;34m(\u001b[0m\u001b[0;34m'get_name:'\u001b[0m\u001b[0;34m,\u001b[0m \u001b[0mget_name\u001b[0m\u001b[0;34m(\u001b[0m\u001b[0mpac\u001b[0m\u001b[0;34m)\u001b[0m\u001b[0;34m)\u001b[0m\u001b[0;34m\u001b[0m\u001b[0m\n\u001b[1;32m      3\u001b[0m \u001b[0mprint\u001b[0m\u001b[0;34m(\u001b[0m\u001b[0;34m'get_region:'\u001b[0m\u001b[0;34m,\u001b[0m \u001b[0mget_region\u001b[0m\u001b[0;34m(\u001b[0m\u001b[0mpac\u001b[0m\u001b[0;34m)\u001b[0m\u001b[0;34m)\u001b[0m\u001b[0;34m\u001b[0m\u001b[0m\n\u001b[0;32m----> 4\u001b[0;31m \u001b[0mprint\u001b[0m\u001b[0;34m(\u001b[0m\u001b[0;34m'get_subregion:'\u001b[0m\u001b[0;34m,\u001b[0m \u001b[0mget_subregion\u001b[0m\u001b[0;34m(\u001b[0m\u001b[0mpac\u001b[0m\u001b[0;34m)\u001b[0m\u001b[0;34m)\u001b[0m\u001b[0;34m\u001b[0m\u001b[0m\n\u001b[0m\u001b[1;32m      5\u001b[0m \u001b[0mprint\u001b[0m\u001b[0;34m(\u001b[0m\u001b[0;34m'get_gain:'\u001b[0m\u001b[0;34m,\u001b[0m \u001b[0mget_gain\u001b[0m\u001b[0;34m(\u001b[0m\u001b[0mpac\u001b[0m\u001b[0;34m)\u001b[0m\u001b[0;34m)\u001b[0m\u001b[0;34m\u001b[0m\u001b[0m\n\u001b[1;32m      6\u001b[0m \u001b[0mprint\u001b[0m\u001b[0;34m(\u001b[0m\u001b[0;34m'get_hpoint:'\u001b[0m\u001b[0;34m,\u001b[0m \u001b[0mget_hpoint\u001b[0m\u001b[0;34m(\u001b[0m\u001b[0mpac\u001b[0m\u001b[0;34m)\u001b[0m\u001b[0;34m)\u001b[0m\u001b[0;34m\u001b[0m\u001b[0m\n",
      "\u001b[0;32m<ipython-input-382-9a2f792dbb77>\u001b[0m in \u001b[0;36mget_subregion\u001b[0;34m(soup)\u001b[0m\n\u001b[1;32m     10\u001b[0m     \u001b[0mregions\u001b[0m \u001b[0;34m=\u001b[0m \u001b[0mget_soup_hike_stat\u001b[0m\u001b[0;34m(\u001b[0m\u001b[0msoup\u001b[0m\u001b[0;34m,\u001b[0m \u001b[0;34m'Location'\u001b[0m\u001b[0;34m)\u001b[0m\u001b[0;34m.\u001b[0m\u001b[0mfind_next\u001b[0m\u001b[0;34m(\u001b[0m\u001b[0;34m)\u001b[0m\u001b[0;34m.\u001b[0m\u001b[0mtext\u001b[0m\u001b[0;34m\u001b[0m\u001b[0m\n\u001b[1;32m     11\u001b[0m     \u001b[0mregions\u001b[0m \u001b[0;34m=\u001b[0m \u001b[0mregions\u001b[0m\u001b[0;34m.\u001b[0m\u001b[0msplit\u001b[0m\u001b[0;34m(\u001b[0m\u001b[0msep\u001b[0m\u001b[0;34m=\u001b[0m\u001b[0;34m\"--\"\u001b[0m\u001b[0;34m)\u001b[0m\u001b[0;34m\u001b[0m\u001b[0m\n\u001b[0;32m---> 12\u001b[0;31m     \u001b[0;32mreturn\u001b[0m \u001b[0mregions\u001b[0m\u001b[0;34m[\u001b[0m\u001b[0;36m1\u001b[0m\u001b[0;34m]\u001b[0m\u001b[0;34m.\u001b[0m\u001b[0mstrip\u001b[0m\u001b[0;34m(\u001b[0m\u001b[0;34m)\u001b[0m\u001b[0;34m\u001b[0m\u001b[0m\n\u001b[0m\u001b[1;32m     13\u001b[0m \u001b[0;34m\u001b[0m\u001b[0m\n\u001b[1;32m     14\u001b[0m \u001b[0;32mdef\u001b[0m \u001b[0mget_length\u001b[0m\u001b[0;34m(\u001b[0m\u001b[0msoup\u001b[0m\u001b[0;34m)\u001b[0m\u001b[0;34m:\u001b[0m\u001b[0;34m\u001b[0m\u001b[0m\n",
      "\u001b[0;31mIndexError\u001b[0m: list index out of range"
     ]
    }
   ],
   "source": [
    "# Rough Debugging\n",
    "print('get_name:', get_name(pac))\n",
    "print('get_region:', get_region(pac))\n",
    "print('get_subregion:', get_subregion(pac))\n",
    "print('get_gain:', get_gain(pac))\n",
    "print('get_hpoint:', get_hpoint(pac))"
   ]
  },
  {
   "cell_type": "markdown",
   "metadata": {},
   "source": [
    "# Creating Dictionary"
   ]
  },
  {
   "cell_type": "code",
   "execution_count": 547,
   "metadata": {},
   "outputs": [
    {
     "data": {
      "text/plain": [
       "defaultdict(None,\n",
       "            {'name': nan,\n",
       "             'region': nan,\n",
       "             'subregion': nan,\n",
       "             'votes': nan,\n",
       "             'rating': nan,\n",
       "             'length': nan,\n",
       "             'gain': nan,\n",
       "             'hpoint': nan,\n",
       "             'fee': nan,\n",
       "             'lat': nan,\n",
       "             'long': nan,\n",
       "             'trailhead1': nan,\n",
       "             'trailhead2': nan,\n",
       "             'author1': nan,\n",
       "             'author2': nan,\n",
       "             'countreports': nan})"
      ]
     },
     "execution_count": 547,
     "metadata": {},
     "output_type": "execute_result"
    }
   ],
   "source": [
    "data = append_features(soup, headers)\n",
    "data"
   ]
  },
  {
   "cell_type": "code",
   "execution_count": 575,
   "metadata": {
    "scrolled": false
   },
   "outputs": [
    {
     "data": {
      "text/html": [
       "<div>\n",
       "<style scoped>\n",
       "    .dataframe tbody tr th:only-of-type {\n",
       "        vertical-align: middle;\n",
       "    }\n",
       "\n",
       "    .dataframe tbody tr th {\n",
       "        vertical-align: top;\n",
       "    }\n",
       "\n",
       "    .dataframe thead th {\n",
       "        text-align: right;\n",
       "    }\n",
       "</style>\n",
       "<table border=\"1\" class=\"dataframe\">\n",
       "  <thead>\n",
       "    <tr style=\"text-align: right;\">\n",
       "      <th></th>\n",
       "      <th>name</th>\n",
       "      <th>region</th>\n",
       "      <th>subregion</th>\n",
       "      <th>votes</th>\n",
       "      <th>rating</th>\n",
       "      <th>length</th>\n",
       "      <th>gain</th>\n",
       "      <th>hpoint</th>\n",
       "      <th>fee</th>\n",
       "      <th>lat</th>\n",
       "      <th>...</th>\n",
       "      <th>Old growth</th>\n",
       "      <th>Summits</th>\n",
       "      <th>Good for kids</th>\n",
       "      <th>Dogs allowed on leash</th>\n",
       "      <th>Fall foliage</th>\n",
       "      <th>Lakes</th>\n",
       "      <th>Rivers</th>\n",
       "      <th>Coast</th>\n",
       "      <th>Mountain views</th>\n",
       "      <th>Established campsites</th>\n",
       "    </tr>\n",
       "  </thead>\n",
       "  <tbody>\n",
       "    <tr>\n",
       "      <th>0</th>\n",
       "      <td>Wilderness Peak Loop</td>\n",
       "      <td>Issaquah Alps</td>\n",
       "      <td>Cougar Mountain</td>\n",
       "      <td>19</td>\n",
       "      <td>3.00</td>\n",
       "      <td>4.0</td>\n",
       "      <td>1200</td>\n",
       "      <td>1598</td>\n",
       "      <td>None</td>\n",
       "      <td>47.5093</td>\n",
       "      <td>...</td>\n",
       "      <td>1</td>\n",
       "      <td>1</td>\n",
       "      <td>1</td>\n",
       "      <td>1</td>\n",
       "      <td>1</td>\n",
       "      <td>0</td>\n",
       "      <td>0</td>\n",
       "      <td>0</td>\n",
       "      <td>0</td>\n",
       "      <td>0</td>\n",
       "    </tr>\n",
       "  </tbody>\n",
       "</table>\n",
       "<p>1 rows × 30 columns</p>\n",
       "</div>"
      ],
      "text/plain": [
       "                   name         region        subregion votes rating length  \\\n",
       "0  Wilderness Peak Loop  Issaquah Alps  Cougar Mountain    19   3.00    4.0   \n",
       "\n",
       "   gain hpoint   fee      lat          ...           Old growth Summits  \\\n",
       "0  1200   1598  None  47.5093          ...                    1       1   \n",
       "\n",
       "  Good for kids Dogs allowed on leash Fall foliage Lakes  Rivers  Coast  \\\n",
       "0             1                     1            1     0       0      0   \n",
       "\n",
       "   Mountain views  Established campsites  \n",
       "0               0                      0  \n",
       "\n",
       "[1 rows x 30 columns]"
      ]
     },
     "execution_count": 575,
     "metadata": {},
     "output_type": "execute_result"
    }
   ],
   "source": [
    "# so for one webpage:\n",
    "feat_dict = append_features(soup, headers)\n",
    "append_binary_feats(soup, binary_headers, feat_dict)\n",
    "# Create pandas DataFrame from dictionary\n",
    "df_page = pd.DataFrame.from_dict(feat_dict)\n",
    "df_page"
   ]
  },
  {
   "cell_type": "code",
   "execution_count": 582,
   "metadata": {
    "collapsed": true
   },
   "outputs": [
    {
     "data": {
      "text/html": [
       "<div>\n",
       "<style scoped>\n",
       "    .dataframe tbody tr th:only-of-type {\n",
       "        vertical-align: middle;\n",
       "    }\n",
       "\n",
       "    .dataframe tbody tr th {\n",
       "        vertical-align: top;\n",
       "    }\n",
       "\n",
       "    .dataframe thead th {\n",
       "        text-align: right;\n",
       "    }\n",
       "</style>\n",
       "<table border=\"1\" class=\"dataframe\">\n",
       "  <thead>\n",
       "    <tr style=\"text-align: right;\">\n",
       "      <th></th>\n",
       "      <th>name</th>\n",
       "      <th>region</th>\n",
       "      <th>subregion</th>\n",
       "      <th>votes</th>\n",
       "      <th>rating</th>\n",
       "      <th>length</th>\n",
       "      <th>gain</th>\n",
       "      <th>hpoint</th>\n",
       "      <th>fee</th>\n",
       "      <th>lat</th>\n",
       "      <th>long</th>\n",
       "      <th>trailhead1</th>\n",
       "      <th>trailhead2</th>\n",
       "      <th>author1</th>\n",
       "      <th>author2</th>\n",
       "      <th>countreports</th>\n",
       "      <th>Wildflowers/Meadows</th>\n",
       "      <th>Ridges/passes</th>\n",
       "      <th>Wildlife</th>\n",
       "      <th>Waterfalls</th>\n",
       "      <th>Old growth</th>\n",
       "      <th>Summits</th>\n",
       "      <th>Good for kids</th>\n",
       "      <th>Dogs allowed on leash</th>\n",
       "      <th>Fall foliage</th>\n",
       "      <th>Lakes</th>\n",
       "      <th>Rivers</th>\n",
       "      <th>Coast</th>\n",
       "      <th>Mountain views</th>\n",
       "      <th>Established campsites</th>\n",
       "    </tr>\n",
       "  </thead>\n",
       "  <tbody>\n",
       "    <tr>\n",
       "      <th>0</th>\n",
       "      <td>Wilderness Peak Loop</td>\n",
       "      <td>Issaquah Alps</td>\n",
       "      <td>Cougar Mountain</td>\n",
       "      <td>19</td>\n",
       "      <td>3.00</td>\n",
       "      <td>4.0</td>\n",
       "      <td>1200</td>\n",
       "      <td>1598</td>\n",
       "      <td>None</td>\n",
       "      <td>47.5093</td>\n",
       "      <td>-122.0904</td>\n",
       "      <td>Whittaker Wilderness Peak (#COUGAR-E4), Gombu ...</td>\n",
       "      <td>King County Parks</td>\n",
       "      <td>WTA Correspondents</td>\n",
       "      <td>Alan Gibbs</td>\n",
       "      <td>177</td>\n",
       "      <td>1</td>\n",
       "      <td>1</td>\n",
       "      <td>1</td>\n",
       "      <td>1</td>\n",
       "      <td>1</td>\n",
       "      <td>1</td>\n",
       "      <td>1</td>\n",
       "      <td>1</td>\n",
       "      <td>1</td>\n",
       "      <td>0</td>\n",
       "      <td>0</td>\n",
       "      <td>0</td>\n",
       "      <td>0</td>\n",
       "      <td>0</td>\n",
       "    </tr>\n",
       "  </tbody>\n",
       "</table>\n",
       "</div>"
      ],
      "text/plain": [
       "                   name         region        subregion votes rating length  \\\n",
       "0  Wilderness Peak Loop  Issaquah Alps  Cougar Mountain    19   3.00    4.0   \n",
       "\n",
       "   gain hpoint   fee      lat       long  \\\n",
       "0  1200   1598  None  47.5093  -122.0904   \n",
       "\n",
       "                                          trailhead1         trailhead2  \\\n",
       "0  Whittaker Wilderness Peak (#COUGAR-E4), Gombu ...  King County Parks   \n",
       "\n",
       "              author1     author2 countreports  Wildflowers/Meadows  \\\n",
       "0  WTA Correspondents  Alan Gibbs          177                    1   \n",
       "\n",
       "   Ridges/passes  Wildlife  Waterfalls  Old growth  Summits  Good for kids  \\\n",
       "0              1         1           1           1        1              1   \n",
       "\n",
       "   Dogs allowed on leash  Fall foliage  Lakes  Rivers  Coast  Mountain views  \\\n",
       "0                      1             1      0       0      0               0   \n",
       "\n",
       "   Established campsites  \n",
       "0                      0  "
      ]
     },
     "execution_count": 582,
     "metadata": {},
     "output_type": "execute_result"
    }
   ],
   "source": [
    "# so for one webpage:\n",
    "feat_dict = append_features(soup, headers)\n",
    "append_binary_feats(soup, binary_headers, feat_dict)\n",
    "# Create pandas DataFrame from dictionary\n",
    "df_page = pd.DataFrame.from_dict(feat_dict)\n",
    "df_page"
   ]
  },
  {
   "cell_type": "code",
   "execution_count": 580,
   "metadata": {
    "collapsed": true
   },
   "outputs": [
    {
     "data": {
      "text/html": [
       "<div>\n",
       "<style scoped>\n",
       "    .dataframe tbody tr th:only-of-type {\n",
       "        vertical-align: middle;\n",
       "    }\n",
       "\n",
       "    .dataframe tbody tr th {\n",
       "        vertical-align: top;\n",
       "    }\n",
       "\n",
       "    .dataframe thead th {\n",
       "        text-align: right;\n",
       "    }\n",
       "</style>\n",
       "<table border=\"1\" class=\"dataframe\">\n",
       "  <thead>\n",
       "    <tr style=\"text-align: right;\">\n",
       "      <th></th>\n",
       "      <th>name</th>\n",
       "      <th>region</th>\n",
       "      <th>subregion</th>\n",
       "      <th>votes</th>\n",
       "      <th>rating</th>\n",
       "      <th>length</th>\n",
       "      <th>gain</th>\n",
       "      <th>hpoint</th>\n",
       "      <th>fee</th>\n",
       "      <th>lat</th>\n",
       "      <th>long</th>\n",
       "      <th>trailhead1</th>\n",
       "      <th>trailhead2</th>\n",
       "      <th>author1</th>\n",
       "      <th>author2</th>\n",
       "      <th>countreports</th>\n",
       "      <th>Wildflowers/Meadows</th>\n",
       "      <th>Ridges/passes</th>\n",
       "      <th>Wildlife</th>\n",
       "      <th>Waterfalls</th>\n",
       "      <th>Old growth</th>\n",
       "      <th>Summits</th>\n",
       "      <th>Good for kids</th>\n",
       "      <th>Dogs allowed on leash</th>\n",
       "      <th>Fall foliage</th>\n",
       "      <th>Lakes</th>\n",
       "      <th>Rivers</th>\n",
       "      <th>Coast</th>\n",
       "      <th>Mountain views</th>\n",
       "      <th>Established campsites</th>\n",
       "    </tr>\n",
       "  </thead>\n",
       "  <tbody>\n",
       "    <tr>\n",
       "      <th>0</th>\n",
       "      <td>Wilderness Peak Loop</td>\n",
       "      <td>Issaquah Alps</td>\n",
       "      <td>Cougar Mountain</td>\n",
       "      <td>19</td>\n",
       "      <td>3.00</td>\n",
       "      <td>4.0</td>\n",
       "      <td>1200</td>\n",
       "      <td>1598</td>\n",
       "      <td>None</td>\n",
       "      <td>47.5093</td>\n",
       "      <td>-122.0904</td>\n",
       "      <td>Whittaker Wilderness Peak (#COUGAR-E4), Gombu ...</td>\n",
       "      <td>King County Parks</td>\n",
       "      <td>WTA Correspondents</td>\n",
       "      <td>Alan Gibbs</td>\n",
       "      <td>177</td>\n",
       "      <td>1</td>\n",
       "      <td>1</td>\n",
       "      <td>1</td>\n",
       "      <td>1</td>\n",
       "      <td>1</td>\n",
       "      <td>1</td>\n",
       "      <td>1</td>\n",
       "      <td>1</td>\n",
       "      <td>1</td>\n",
       "      <td>0</td>\n",
       "      <td>0</td>\n",
       "      <td>0</td>\n",
       "      <td>0</td>\n",
       "      <td>0</td>\n",
       "    </tr>\n",
       "    <tr>\n",
       "      <th>0</th>\n",
       "      <td>Pacific Northwest Trail</td>\n",
       "      <td>Puget Sound and Islands</td>\n",
       "      <td>NaN</td>\n",
       "      <td>2</td>\n",
       "      <td>3.50</td>\n",
       "      <td>1200.0</td>\n",
       "      <td>NaN</td>\n",
       "      <td>7580</td>\n",
       "      <td>NaN</td>\n",
       "      <td>48.6451</td>\n",
       "      <td>-122.3563</td>\n",
       "      <td>Various</td>\n",
       "      <td>NaN</td>\n",
       "      <td>NaN</td>\n",
       "      <td>NaN</td>\n",
       "      <td>27</td>\n",
       "      <td>1</td>\n",
       "      <td>1</td>\n",
       "      <td>1</td>\n",
       "      <td>1</td>\n",
       "      <td>1</td>\n",
       "      <td>1</td>\n",
       "      <td>0</td>\n",
       "      <td>0</td>\n",
       "      <td>1</td>\n",
       "      <td>1</td>\n",
       "      <td>1</td>\n",
       "      <td>1</td>\n",
       "      <td>1</td>\n",
       "      <td>1</td>\n",
       "    </tr>\n",
       "    <tr>\n",
       "      <th>0</th>\n",
       "      <td>Pacific Northwest Trail</td>\n",
       "      <td>Puget Sound and Islands</td>\n",
       "      <td>NaN</td>\n",
       "      <td>2</td>\n",
       "      <td>3.50</td>\n",
       "      <td>1200.0</td>\n",
       "      <td>NaN</td>\n",
       "      <td>7580</td>\n",
       "      <td>NaN</td>\n",
       "      <td>48.6451</td>\n",
       "      <td>-122.3563</td>\n",
       "      <td>Various</td>\n",
       "      <td>NaN</td>\n",
       "      <td>NaN</td>\n",
       "      <td>NaN</td>\n",
       "      <td>27</td>\n",
       "      <td>1</td>\n",
       "      <td>1</td>\n",
       "      <td>1</td>\n",
       "      <td>1</td>\n",
       "      <td>1</td>\n",
       "      <td>1</td>\n",
       "      <td>0</td>\n",
       "      <td>0</td>\n",
       "      <td>1</td>\n",
       "      <td>1</td>\n",
       "      <td>1</td>\n",
       "      <td>1</td>\n",
       "      <td>1</td>\n",
       "      <td>1</td>\n",
       "    </tr>\n",
       "  </tbody>\n",
       "</table>\n",
       "</div>"
      ],
      "text/plain": [
       "                      name                   region        subregion votes  \\\n",
       "0     Wilderness Peak Loop            Issaquah Alps  Cougar Mountain    19   \n",
       "0  Pacific Northwest Trail  Puget Sound and Islands              NaN     2   \n",
       "0  Pacific Northwest Trail  Puget Sound and Islands              NaN     2   \n",
       "\n",
       "  rating  length  gain hpoint   fee      lat       long  \\\n",
       "0   3.00     4.0  1200   1598  None  47.5093  -122.0904   \n",
       "0   3.50  1200.0   NaN   7580   NaN  48.6451  -122.3563   \n",
       "0   3.50  1200.0   NaN   7580   NaN  48.6451  -122.3563   \n",
       "\n",
       "                                          trailhead1         trailhead2  \\\n",
       "0  Whittaker Wilderness Peak (#COUGAR-E4), Gombu ...  King County Parks   \n",
       "0                                            Various                NaN   \n",
       "0                                            Various                NaN   \n",
       "\n",
       "              author1     author2 countreports  Wildflowers/Meadows  \\\n",
       "0  WTA Correspondents  Alan Gibbs          177                    1   \n",
       "0                 NaN         NaN           27                    1   \n",
       "0                 NaN         NaN           27                    1   \n",
       "\n",
       "   Ridges/passes  Wildlife  Waterfalls  Old growth  Summits  Good for kids  \\\n",
       "0              1         1           1           1        1              1   \n",
       "0              1         1           1           1        1              0   \n",
       "0              1         1           1           1        1              0   \n",
       "\n",
       "   Dogs allowed on leash  Fall foliage  Lakes  Rivers  Coast  Mountain views  \\\n",
       "0                      1             1      0       0      0               0   \n",
       "0                      0             1      1       1      1               1   \n",
       "0                      0             1      1       1      1               1   \n",
       "\n",
       "   Established campsites  \n",
       "0                      0  \n",
       "0                      1  \n",
       "0                      1  "
      ]
     },
     "execution_count": 580,
     "metadata": {},
     "output_type": "execute_result"
    }
   ],
   "source": [
    "df = pd.concat([df, df_page], join='inner')\n",
    "df"
   ]
  },
  {
   "cell_type": "code",
   "execution_count": 5,
   "metadata": {},
   "outputs": [],
   "source": [
    "# TESTING only - resets my dfs\n",
    "df_page = None\n",
    "df = None"
   ]
  },
  {
   "cell_type": "markdown",
   "metadata": {},
   "source": [
    "# Combine into one scrape function"
   ]
  },
  {
   "cell_type": "code",
   "execution_count": 7,
   "metadata": {},
   "outputs": [],
   "source": [
    "def scrape_page(soup, headers, binary_headers, df):\n",
    "    feat_dict = append_features(soup, headers)\n",
    "    append_binary_feats(soup, binary_headers, feat_dict)\n",
    "    # Create pandas DataFrame from dictionary\n",
    "    df_page = pd.DataFrame.from_dict(feat_dict)\n",
    "    newdf = pd.concat([df, df_page], join='inner')\n",
    "    return newdf"
   ]
  },
  {
   "cell_type": "code",
   "execution_count": 8,
   "metadata": {},
   "outputs": [],
   "source": [
    "babydf = pd.DataFrame()"
   ]
  },
  {
   "cell_type": "code",
   "execution_count": 9,
   "metadata": {},
   "outputs": [
    {
     "ename": "NameError",
     "evalue": "name 'soup' is not defined",
     "output_type": "error",
     "traceback": [
      "\u001b[0;31m-----------------------------------------------------------------\u001b[0m",
      "\u001b[0;31mNameError\u001b[0m                       Traceback (most recent call last)",
      "\u001b[0;32m<ipython-input-9-bdaf4d320cc8>\u001b[0m in \u001b[0;36m<module>\u001b[0;34m()\u001b[0m\n\u001b[0;32m----> 1\u001b[0;31m \u001b[0mscrape_page\u001b[0m\u001b[0;34m(\u001b[0m\u001b[0msoup\u001b[0m\u001b[0;34m,\u001b[0m \u001b[0mheaders\u001b[0m\u001b[0;34m,\u001b[0m \u001b[0mbinary_headers\u001b[0m\u001b[0;34m,\u001b[0m \u001b[0mbabydf\u001b[0m\u001b[0;34m)\u001b[0m\u001b[0;34m\u001b[0m\u001b[0m\n\u001b[0m",
      "\u001b[0;31mNameError\u001b[0m: name 'soup' is not defined"
     ]
    }
   ],
   "source": [
    "scrape_page(soup, headers, binary_headers, babydf)"
   ]
  },
  {
   "cell_type": "markdown",
   "metadata": {},
   "source": [
    "# Selenium"
   ]
  },
  {
   "cell_type": "code",
   "execution_count": 2,
   "metadata": {
    "collapsed": true
   },
   "outputs": [
    {
     "ename": "WebDriverException",
     "evalue": "Message: Reached error page: about:neterror?e=dnsNotFound&u=https%3A//www.wta.org/go-outside/hikes/&c=UTF-8&f=regular&d=We%20can%E2%80%99t%20connect%20to%20the%20server%20at%20www.wta.org.\n",
     "output_type": "error",
     "traceback": [
      "\u001b[0;31m-----------------------------------------------------------------\u001b[0m",
      "\u001b[0;31mWebDriverException\u001b[0m              Traceback (most recent call last)",
      "\u001b[0;32m<ipython-input-2-7fa1492b5eaf>\u001b[0m in \u001b[0;36m<module>\u001b[0;34m()\u001b[0m\n\u001b[1;32m      1\u001b[0m \u001b[0mdriver\u001b[0m \u001b[0;34m=\u001b[0m \u001b[0mwebdriver\u001b[0m\u001b[0;34m.\u001b[0m\u001b[0mFirefox\u001b[0m\u001b[0;34m(\u001b[0m\u001b[0;34m)\u001b[0m\u001b[0;34m\u001b[0m\u001b[0m\n\u001b[0;32m----> 2\u001b[0;31m \u001b[0mdriver\u001b[0m\u001b[0;34m.\u001b[0m\u001b[0mget\u001b[0m\u001b[0;34m(\u001b[0m\u001b[0;34m\"https://www.wta.org/go-outside/hikes/\"\u001b[0m\u001b[0;34m)\u001b[0m\u001b[0;34m\u001b[0m\u001b[0m\n\u001b[0m",
      "\u001b[0;32m~/anaconda3/lib/python3.6/site-packages/selenium/webdriver/remote/webdriver.py\u001b[0m in \u001b[0;36mget\u001b[0;34m(self, url)\u001b[0m\n\u001b[1;32m    330\u001b[0m         \u001b[0mLoads\u001b[0m \u001b[0ma\u001b[0m \u001b[0mweb\u001b[0m \u001b[0mpage\u001b[0m \u001b[0;32min\u001b[0m \u001b[0mthe\u001b[0m \u001b[0mcurrent\u001b[0m \u001b[0mbrowser\u001b[0m \u001b[0msession\u001b[0m\u001b[0;34m.\u001b[0m\u001b[0;34m\u001b[0m\u001b[0m\n\u001b[1;32m    331\u001b[0m         \"\"\"\n\u001b[0;32m--> 332\u001b[0;31m         \u001b[0mself\u001b[0m\u001b[0;34m.\u001b[0m\u001b[0mexecute\u001b[0m\u001b[0;34m(\u001b[0m\u001b[0mCommand\u001b[0m\u001b[0;34m.\u001b[0m\u001b[0mGET\u001b[0m\u001b[0;34m,\u001b[0m \u001b[0;34m{\u001b[0m\u001b[0;34m'url'\u001b[0m\u001b[0;34m:\u001b[0m \u001b[0murl\u001b[0m\u001b[0;34m}\u001b[0m\u001b[0;34m)\u001b[0m\u001b[0;34m\u001b[0m\u001b[0m\n\u001b[0m\u001b[1;32m    333\u001b[0m \u001b[0;34m\u001b[0m\u001b[0m\n\u001b[1;32m    334\u001b[0m     \u001b[0;34m@\u001b[0m\u001b[0mproperty\u001b[0m\u001b[0;34m\u001b[0m\u001b[0m\n",
      "\u001b[0;32m~/anaconda3/lib/python3.6/site-packages/selenium/webdriver/remote/webdriver.py\u001b[0m in \u001b[0;36mexecute\u001b[0;34m(self, driver_command, params)\u001b[0m\n\u001b[1;32m    318\u001b[0m         \u001b[0mresponse\u001b[0m \u001b[0;34m=\u001b[0m \u001b[0mself\u001b[0m\u001b[0;34m.\u001b[0m\u001b[0mcommand_executor\u001b[0m\u001b[0;34m.\u001b[0m\u001b[0mexecute\u001b[0m\u001b[0;34m(\u001b[0m\u001b[0mdriver_command\u001b[0m\u001b[0;34m,\u001b[0m \u001b[0mparams\u001b[0m\u001b[0;34m)\u001b[0m\u001b[0;34m\u001b[0m\u001b[0m\n\u001b[1;32m    319\u001b[0m         \u001b[0;32mif\u001b[0m \u001b[0mresponse\u001b[0m\u001b[0;34m:\u001b[0m\u001b[0;34m\u001b[0m\u001b[0m\n\u001b[0;32m--> 320\u001b[0;31m             \u001b[0mself\u001b[0m\u001b[0;34m.\u001b[0m\u001b[0merror_handler\u001b[0m\u001b[0;34m.\u001b[0m\u001b[0mcheck_response\u001b[0m\u001b[0;34m(\u001b[0m\u001b[0mresponse\u001b[0m\u001b[0;34m)\u001b[0m\u001b[0;34m\u001b[0m\u001b[0m\n\u001b[0m\u001b[1;32m    321\u001b[0m             response['value'] = self._unwrap_value(\n\u001b[1;32m    322\u001b[0m                 response.get('value', None))\n",
      "\u001b[0;32m~/anaconda3/lib/python3.6/site-packages/selenium/webdriver/remote/errorhandler.py\u001b[0m in \u001b[0;36mcheck_response\u001b[0;34m(self, response)\u001b[0m\n\u001b[1;32m    240\u001b[0m                 \u001b[0malert_text\u001b[0m \u001b[0;34m=\u001b[0m \u001b[0mvalue\u001b[0m\u001b[0;34m[\u001b[0m\u001b[0;34m'alert'\u001b[0m\u001b[0;34m]\u001b[0m\u001b[0;34m.\u001b[0m\u001b[0mget\u001b[0m\u001b[0;34m(\u001b[0m\u001b[0;34m'text'\u001b[0m\u001b[0;34m)\u001b[0m\u001b[0;34m\u001b[0m\u001b[0m\n\u001b[1;32m    241\u001b[0m             \u001b[0;32mraise\u001b[0m \u001b[0mexception_class\u001b[0m\u001b[0;34m(\u001b[0m\u001b[0mmessage\u001b[0m\u001b[0;34m,\u001b[0m \u001b[0mscreen\u001b[0m\u001b[0;34m,\u001b[0m \u001b[0mstacktrace\u001b[0m\u001b[0;34m,\u001b[0m \u001b[0malert_text\u001b[0m\u001b[0;34m)\u001b[0m\u001b[0;34m\u001b[0m\u001b[0m\n\u001b[0;32m--> 242\u001b[0;31m         \u001b[0;32mraise\u001b[0m \u001b[0mexception_class\u001b[0m\u001b[0;34m(\u001b[0m\u001b[0mmessage\u001b[0m\u001b[0;34m,\u001b[0m \u001b[0mscreen\u001b[0m\u001b[0;34m,\u001b[0m \u001b[0mstacktrace\u001b[0m\u001b[0;34m)\u001b[0m\u001b[0;34m\u001b[0m\u001b[0m\n\u001b[0m\u001b[1;32m    243\u001b[0m \u001b[0;34m\u001b[0m\u001b[0m\n\u001b[1;32m    244\u001b[0m     \u001b[0;32mdef\u001b[0m \u001b[0m_value_or_default\u001b[0m\u001b[0;34m(\u001b[0m\u001b[0mself\u001b[0m\u001b[0;34m,\u001b[0m \u001b[0mobj\u001b[0m\u001b[0;34m,\u001b[0m \u001b[0mkey\u001b[0m\u001b[0;34m,\u001b[0m \u001b[0mdefault\u001b[0m\u001b[0;34m)\u001b[0m\u001b[0;34m:\u001b[0m\u001b[0;34m\u001b[0m\u001b[0m\n",
      "\u001b[0;31mWebDriverException\u001b[0m: Message: Reached error page: about:neterror?e=dnsNotFound&u=https%3A//www.wta.org/go-outside/hikes/&c=UTF-8&f=regular&d=We%20can%E2%80%99t%20connect%20to%20the%20server%20at%20www.wta.org.\n"
     ]
    }
   ],
   "source": [
    "driver = webdriver.Firefox()\n",
    "driver.get(\"https://www.wta.org/go-outside/hikes/\")\n",
    "time.sleep(1);"
   ]
  },
  {
   "cell_type": "code",
   "execution_count": null,
   "metadata": {},
   "outputs": [],
   "source": [
    "# ROUND TRIP OR ONE WAY?!?!"
   ]
  },
  {
   "cell_type": "code",
   "execution_count": null,
   "metadata": {},
   "outputs": [],
   "source": [
    "# wtadf = pd.DataFrame()\n",
    "count = 0\n",
    "mamadf = pd.DataFrame()\n",
    "while True:\n",
    "    all_page_hikes = driver.find_elements_by_class_name('listitem-title')\n",
    "    for hike in all_page_hikes:\n",
    "        driver.click()\n",
    "        time.sleep(1);\n",
    "        driver.switch_to_window(driver.window_handles[1])\n",
    "        # Insert all scraping code here\n",
    "        # scrape_page(soup, headers, binary_headers, mamadf)\n",
    "\n",
    "        # then close page and head back to list?!\n",
    "        driver.close()\n",
    "        count += 1\n",
    "        # driver.switch_to_window(driver.window_handles[0])\n",
    "        driver.switch_to.window('main')\n",
    "    # then hit the next page button\n",
    "    try:\n",
    "        next_button = driver.find_element_by_class_name('next')\n",
    "        next_button.click()\n",
    "    except:\n",
    "        print(f\"End of program. Scraped {count} hike pages\")\n",
    "        print(\"See df: \")\n",
    "        return mamadf\n",
    "print(f\"End of program. Scraped {count} hike pages\")\n",
    "print(\"See df: \")\n",
    "return mamadf"
   ]
  }
 ],
 "metadata": {
  "kernelspec": {
   "display_name": "Python 3",
   "language": "python",
   "name": "python3"
  },
  "language_info": {
   "codemirror_mode": {
    "name": "ipython",
    "version": 3
   },
   "file_extension": ".py",
   "mimetype": "text/x-python",
   "name": "python",
   "nbconvert_exporter": "python",
   "pygments_lexer": "ipython3",
   "version": "3.6.6"
  },
  "toc": {
   "base_numbering": 1,
   "nav_menu": {
    "height": "22px",
    "width": "211.333px"
   },
   "number_sections": true,
   "sideBar": true,
   "skip_h1_title": false,
   "title_cell": "Table of Contents",
   "title_sidebar": "Contents",
   "toc_cell": false,
   "toc_position": {},
   "toc_section_display": true,
   "toc_window_display": false
  },
  "varInspector": {
   "cols": {
    "lenName": 16,
    "lenType": 16,
    "lenVar": 40
   },
   "kernels_config": {
    "python": {
     "delete_cmd_postfix": "",
     "delete_cmd_prefix": "del ",
     "library": "var_list.py",
     "varRefreshCmd": "print(var_dic_list())"
    },
    "r": {
     "delete_cmd_postfix": ") ",
     "delete_cmd_prefix": "rm(",
     "library": "var_list.r",
     "varRefreshCmd": "cat(var_dic_list()) "
    }
   },
   "types_to_exclude": [
    "module",
    "function",
    "builtin_function_or_method",
    "instance",
    "_Feature"
   ],
   "window_display": false
  }
 },
 "nbformat": 4,
 "nbformat_minor": 2
}
