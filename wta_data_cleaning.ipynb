{
 "cells": [
  {
   "cell_type": "markdown",
   "metadata": {},
   "source": [
    "# TODO:\n",
    "- Clean (see other notebook)\n",
    "- Create \"distance from Seattle\" feature"
   ]
  },
  {
   "cell_type": "code",
   "execution_count": 63,
   "metadata": {},
   "outputs": [],
   "source": [
    "import pandas as pd\n",
    "import numpy as np\n",
    "import matplotlib as mpl\n",
    "import matplotlib.pyplot as plt\n",
    "import scipy.stats as st\n",
    "# import pymc3 as pm\n",
    "import seaborn as sns\n",
    "\n",
    "# enables inline plots, without it plots don't show up in the notebook\n",
    "%matplotlib inline\n",
    "%config InlineBackend.figure_format = 'svg'\n",
    "# %config InlineBackend.figure_format = 'png'\n",
    "# mpl.rcParams['figure.dpi']= 300"
   ]
  },
  {
   "cell_type": "code",
   "execution_count": 64,
   "metadata": {},
   "outputs": [],
   "source": [
    "pd.set_option('display.max_columns', None)\n",
    "pd.set_option('display.max_rows', 25)\n",
    "pd.set_option('display.precision', 3)\n",
    "pd.set_option('display.float_format', lambda x: '%.3f' % x)"
   ]
  },
  {
   "cell_type": "code",
   "execution_count": 65,
   "metadata": {},
   "outputs": [],
   "source": [
    "import pickle\n",
    "def load_pd_pkl(file):\n",
    "    import pandas as pd\n",
    "    try:\n",
    "        with open(f\"{file}.pkl\",'rb') as picklefile:\n",
    "            return pickle.load(picklefile)\n",
    "    except FileNotFoundError:\n",
    "        df = pd.read_csv(f\"{file}.csv\")\n",
    "        with open(f\"{file}.pkl\", 'wb') as picklefile:\n",
    "            pickle.dump(df, picklefile)\n",
    "        return df"
   ]
  },
  {
   "cell_type": "code",
   "execution_count": 66,
   "metadata": {},
   "outputs": [],
   "source": [
    "df = load_pd_pkl('data/raw_wta_df')"
   ]
  },
  {
   "cell_type": "code",
   "execution_count": 67,
   "metadata": {},
   "outputs": [],
   "source": [
    "#df.to_csv('data/raw_wta_df.csv')"
   ]
  },
  {
   "cell_type": "code",
   "execution_count": 68,
   "metadata": {},
   "outputs": [
    {
     "data": {
      "text/plain": [
       "(3555, 31)"
      ]
     },
     "execution_count": 68,
     "metadata": {},
     "output_type": "execute_result"
    }
   ],
   "source": [
    "df.shape"
   ]
  },
  {
   "cell_type": "code",
   "execution_count": 69,
   "metadata": {
    "scrolled": true
   },
   "outputs": [],
   "source": [
    "df.reset_index(drop=True, inplace=True)"
   ]
  },
  {
   "cell_type": "code",
   "execution_count": 70,
   "metadata": {},
   "outputs": [
    {
     "name": "stdout",
     "output_type": "stream",
     "text": [
      "<class 'pandas.core.frame.DataFrame'>\n",
      "RangeIndex: 3555 entries, 0 to 3554\n",
      "Data columns (total 31 columns):\n",
      "name                     3555 non-null object\n",
      "region                   3555 non-null object\n",
      "subregion                2942 non-null object\n",
      "votes                    3555 non-null int64\n",
      "rating                   3555 non-null float64\n",
      "length                   2361 non-null float64\n",
      "lengthtype               2219 non-null object\n",
      "gain                     1854 non-null float64\n",
      "hpoint                   1946 non-null float64\n",
      "fee                      2013 non-null object\n",
      "lat                      2607 non-null float64\n",
      "long                     2607 non-null float64\n",
      "trailhead1               2961 non-null object\n",
      "trailhead2               1081 non-null object\n",
      "author1                  1291 non-null object\n",
      "author2                  1291 non-null object\n",
      "countreports             3555 non-null int64\n",
      "Wildflowers/Meadows      3555 non-null int64\n",
      "Mountain views           3555 non-null int64\n",
      "Dogs allowed on leash    3555 non-null int64\n",
      "Established campsites    3555 non-null int64\n",
      "Waterfalls               3555 non-null int64\n",
      "Good for kids            3555 non-null int64\n",
      "Fall foliage             3555 non-null int64\n",
      "Ridges/passes            3555 non-null int64\n",
      "Wildlife                 3555 non-null int64\n",
      "Old growth               3555 non-null int64\n",
      "Summits                  3555 non-null int64\n",
      "Lakes                    3555 non-null int64\n",
      "Rivers                   3555 non-null int64\n",
      "Coast                    3555 non-null int64\n",
      "dtypes: float64(6), int64(16), object(9)\n",
      "memory usage: 861.1+ KB\n"
     ]
    }
   ],
   "source": [
    "#rename columns\n",
    "df['votes'] = df['votes'].astype(int)\n",
    "df['countreports'] = df['countreports'].astype(int)\n",
    "df['rating'] = df['rating'].astype(float)\n",
    "df['length'] = df['length'].astype(float)\n",
    "df['gain'] = df['gain'].astype(float)\n",
    "df['hpoint'] = df['hpoint'].astype(float)\n",
    "df['lat'] = df['lat'].astype(float)\n",
    "df['long'] = df['long'].astype(float)\n",
    "df.info()"
   ]
  },
  {
   "cell_type": "code",
   "execution_count": 71,
   "metadata": {},
   "outputs": [],
   "source": [
    "# Clean hikes which faultily have the 'hpoint' assigned to the \"length\" to NaN\n",
    "df.loc[df['length'] == df['hpoint'], 'length'] = np.nan"
   ]
  },
  {
   "cell_type": "code",
   "execution_count": 72,
   "metadata": {},
   "outputs": [
    {
     "data": {
      "text/html": [
       "<div>\n",
       "<style scoped>\n",
       "    .dataframe tbody tr th:only-of-type {\n",
       "        vertical-align: middle;\n",
       "    }\n",
       "\n",
       "    .dataframe tbody tr th {\n",
       "        vertical-align: top;\n",
       "    }\n",
       "\n",
       "    .dataframe thead th {\n",
       "        text-align: right;\n",
       "    }\n",
       "</style>\n",
       "<table border=\"1\" class=\"dataframe\">\n",
       "  <thead>\n",
       "    <tr style=\"text-align: right;\">\n",
       "      <th></th>\n",
       "      <th>name</th>\n",
       "      <th>region</th>\n",
       "      <th>subregion</th>\n",
       "      <th>votes</th>\n",
       "      <th>rating</th>\n",
       "      <th>length</th>\n",
       "      <th>lengthtype</th>\n",
       "      <th>gain</th>\n",
       "      <th>hpoint</th>\n",
       "      <th>fee</th>\n",
       "      <th>lat</th>\n",
       "      <th>long</th>\n",
       "      <th>trailhead1</th>\n",
       "      <th>trailhead2</th>\n",
       "      <th>author1</th>\n",
       "      <th>author2</th>\n",
       "      <th>countreports</th>\n",
       "      <th>Wildflowers/Meadows</th>\n",
       "      <th>Mountain views</th>\n",
       "      <th>Dogs allowed on leash</th>\n",
       "      <th>Established campsites</th>\n",
       "      <th>Waterfalls</th>\n",
       "      <th>Good for kids</th>\n",
       "      <th>Fall foliage</th>\n",
       "      <th>Ridges/passes</th>\n",
       "      <th>Wildlife</th>\n",
       "      <th>Old growth</th>\n",
       "      <th>Summits</th>\n",
       "      <th>Lakes</th>\n",
       "      <th>Rivers</th>\n",
       "      <th>Coast</th>\n",
       "    </tr>\n",
       "  </thead>\n",
       "  <tbody>\n",
       "  </tbody>\n",
       "</table>\n",
       "</div>"
      ],
      "text/plain": [
       "Empty DataFrame\n",
       "Columns: [name, region, subregion, votes, rating, length, lengthtype, gain, hpoint, fee, lat, long, trailhead1, trailhead2, author1, author2, countreports, Wildflowers/Meadows, Mountain views, Dogs allowed on leash, Established campsites, Waterfalls, Good for kids, Fall foliage, Ridges/passes, Wildlife, Old growth, Summits, Lakes, Rivers, Coast]\n",
       "Index: []"
      ]
     },
     "execution_count": 72,
     "metadata": {},
     "output_type": "execute_result"
    }
   ],
   "source": [
    "# Good! All length types exist with a length preceding it.\n",
    "df[df['length'].notna() & df['length'].isna()]"
   ]
  },
  {
   "cell_type": "code",
   "execution_count": 73,
   "metadata": {},
   "outputs": [],
   "source": [
    "# Accurately update length type of \"of\" to \"miles_of_trails\" like on website\n",
    "df[df.lengthtype == \"of\"]\n",
    "df.loc[df['lengthtype'] == \"of\", 'lengthtype'] = \"miles_of_trails\"\n",
    "\n",
    "# Clean hikes which faultily have the 'gain assigned to the \"length\" to NaN\n",
    "df.loc[df['length'] == df['gain'], 'length'] = np.nan\n",
    "df[df.length == df.gain].shape\n",
    "\n",
    "# rename author1 and author2\n",
    "df.rename(columns={'author1': 'org_author', \"author2\":\"author\"},inplace=True)\n",
    "\n",
    "# do some renaming of dfs and create new one dropping a few columns and all NaNs\n",
    "old_df = df.copy()\n",
    "df = df.drop(columns=['trailhead1', 'trailhead2','org_author', 'author', 'subregion','lat','long'])\n",
    "df.dropna(inplace=True)\n",
    "\n",
    "# drop hikes without any votes and ratings remaining\n",
    "df = df.loc[df['votes'] != 0, :]"
   ]
  },
  {
   "cell_type": "code",
   "execution_count": 76,
   "metadata": {},
   "outputs": [
    {
     "data": {
      "text/plain": [
       "array(['Northwest Forest Pass', 'None', 'National Park Pass',\n",
       "       'Discover Pass', 'Refuge Entrance Pass', 'National Monument Fee',\n",
       "       'None, Northwest Forest Pass', 'Oregon State Parks Day-Use',\n",
       "       'National Monument Fee, Sno-Parks Permit', 'Sno-Parks Permit',\n",
       "       'Discover Pass, Sno-Parks Permit',\n",
       "       'Northwest Forest Pass, Sno-Parks Permit'], dtype=object)"
      ]
     },
     "execution_count": 76,
     "metadata": {},
     "output_type": "execute_result"
    }
   ],
   "source": [
    "# There are 7 passes, and also none and n/a\n",
    "df.fee.unique()"
   ]
  },
  {
   "cell_type": "code",
   "execution_count": 13,
   "metadata": {},
   "outputs": [],
   "source": [
    "##### consider limitations on extreme values in length and gain at this point"
   ]
  },
  {
   "cell_type": "code",
   "execution_count": 14,
   "metadata": {},
   "outputs": [],
   "source": [
    "##### should I require votes to be above a certain threshold? 1-5?"
   ]
  },
  {
   "cell_type": "markdown",
   "metadata": {},
   "source": [
    "# Assumptions and changes to data on first pass:\n",
    "* Must have 3 votes are greater\n",
    "* Remove \"one-way\" hikes\n",
    "* Remove extreme continuous variables (length, high-point, elevation gain)"
   ]
  },
  {
   "cell_type": "code",
   "execution_count": null,
   "metadata": {},
   "outputs": [],
   "source": [
    "Run below (commented out) tweaks to make tweaks"
   ]
  },
  {
   "cell_type": "code",
   "execution_count": 153,
   "metadata": {},
   "outputs": [],
   "source": [
    "# df = df[df.votes > 3] # Remove hikes with 3 or less votes contributing to rating\n",
    "# df = df[df.length > 30] # Remove hikes greater than 30 miles\n",
    "# df = df[df.gain > 6000] # Remove hikes greater than 6000 feet in vertical gain\n",
    "# df = df[df.lengthtype != \"one-way\"] # Remove one way hikes"
   ]
  },
  {
   "cell_type": "markdown",
   "metadata": {},
   "source": [
    "# To-Do\n",
    "* Feature engineer lat/long\n",
    "* Change and/or remove one-way and miles of trails locations."
   ]
  },
  {
   "cell_type": "code",
   "execution_count": 156,
   "metadata": {},
   "outputs": [],
   "source": [
    "# import pickle\n",
    "\n",
    "# with open('data/cleaned_wta_df.pkl', 'wb') as picklefile:\n",
    "#     pickle.dump(df, picklefile)"
   ]
  },
  {
   "cell_type": "code",
   "execution_count": null,
   "metadata": {},
   "outputs": [],
   "source": []
  }
 ],
 "metadata": {
  "kernelspec": {
   "display_name": "Python 3",
   "language": "python",
   "name": "python3"
  },
  "language_info": {
   "codemirror_mode": {
    "name": "ipython",
    "version": 3
   },
   "file_extension": ".py",
   "mimetype": "text/x-python",
   "name": "python",
   "nbconvert_exporter": "python",
   "pygments_lexer": "ipython3",
   "version": "3.6.6"
  },
  "toc": {
   "base_numbering": 1,
   "nav_menu": {},
   "number_sections": true,
   "sideBar": true,
   "skip_h1_title": false,
   "title_cell": "Table of Contents",
   "title_sidebar": "Contents",
   "toc_cell": false,
   "toc_position": {},
   "toc_section_display": true,
   "toc_window_display": false
  },
  "varInspector": {
   "cols": {
    "lenName": 16,
    "lenType": 16,
    "lenVar": 40
   },
   "kernels_config": {
    "python": {
     "delete_cmd_postfix": "",
     "delete_cmd_prefix": "del ",
     "library": "var_list.py",
     "varRefreshCmd": "print(var_dic_list())"
    },
    "r": {
     "delete_cmd_postfix": ") ",
     "delete_cmd_prefix": "rm(",
     "library": "var_list.r",
     "varRefreshCmd": "cat(var_dic_list()) "
    }
   },
   "types_to_exclude": [
    "module",
    "function",
    "builtin_function_or_method",
    "instance",
    "_Feature"
   ],
   "window_display": false
  }
 },
 "nbformat": 4,
 "nbformat_minor": 2
}
